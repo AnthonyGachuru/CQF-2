{
  "nbformat": 4,
  "nbformat_minor": 0,
  "metadata": {
    "colab": {
      "name": "Module 2 ExamQ1.ipynb",
      "provenance": [],
      "collapsed_sections": [],
      "include_colab_link": true
    },
    "kernelspec": {
      "name": "python3",
      "display_name": "Python 3"
    }
  },
  "cells": [
    {
      "cell_type": "markdown",
      "metadata": {
        "id": "view-in-github",
        "colab_type": "text"
      },
      "source": [
        "<a href=\"https://colab.research.google.com/github/y31106891/CQF/blob/master/Module_2_ExamQ1.ipynb\" target=\"_parent\"><img src=\"https://colab.research.google.com/assets/colab-badge.svg\" alt=\"Open In Colab\"/></a>"
      ]
    },
    {
      "cell_type": "code",
      "metadata": {
        "id": "4Yrvkqx60SKo",
        "colab_type": "code",
        "outputId": "d0e2ea8a-75ca-41b1-978d-aafe3d74a4e2",
        "colab": {
          "base_uri": "https://localhost:8080/",
          "height": 465
        }
      },
      "source": [
        "import numpy as np\n",
        "import matplotlib.pyplot as plt\n",
        "from scipy.stats import norm\n",
        "\n",
        "u = np.matrix([[0.02],[0.07], [0.15],[0.2]])\n",
        "vol = np.matrix([[0.05], [0.12], [0.17],[0.25]])\n",
        "One = np.matrix([[1],[1],[1],[1]])\n",
        "rho = np.matrix([[1, 0.3,0.3,0.3],\n",
        "[0.3, 1, 0.6,0.6],\n",
        "[0.3, 0.6, 1,0.6],\n",
        "[0.3,0.6,0.6,1]])\n",
        "m=0.045\n",
        "\n",
        "rho=rho*1\n",
        "cov= np.diag(vol.A1).dot(rho).dot(np.diag(vol.A1))\n",
        "\n",
        "A= One.T.dot(cov.I).dot(One).item()\n",
        "B=One.T.dot(cov.I).dot(u).item()\n",
        "C=u.T.dot(cov.I).dot(u).item()\n",
        "\n",
        "lmda=(C-B*m)/(A*C-B*B)\n",
        "lmdb=(A*m-B)/(A*C-B*B)\n",
        "\n",
        "w=lmda*cov.I.dot(One)+lmdb*cov.I.dot(u)\n",
        "sd=np.sqrt(w.T.dot(cov).dot(w)).item()\n",
        "print(\"A=\",A,\n",
        "      \"B=\",B,\n",
        "      \"C=\",C,\n",
        "      \"lmda=\",lmda*100,\n",
        "      \"lmdb=\",lmdb*100)\n",
        "print(\"cov=\",cov)\n",
        "print(\"w=\",w)\n",
        "print(\"sd=\",sd)\n",
        "\n",
        "# dot=[]\n",
        "ul=[]\n",
        "sdl=[]\n",
        "for i in range(10000):\n",
        "  wi=norm.rvs(size=4)\n",
        "  wi/=wi.sum()\n",
        "  ui=wi.dot(u).item()\n",
        "  sdi=np.sqrt(wi.dot(cov).dot(wi.T).item())\n",
        "  ul.append(ui)\n",
        "  sdl.append(sdi)\n",
        "\n",
        "plt.scatter(sdl,ul)\n",
        "plt.ylabel(\"u\")\n",
        "plt.xlabel(\"sd\")\n",
        "plt.title(\"Question 1 part 3\")\n",
        "plt.show()\n"
      ],
      "execution_count": 0,
      "outputs": [
        {
          "output_type": "stream",
          "text": [
            "A= 423.6149806869816 B= 6.8070207154282985 C= 0.906508930403412 lmda= 0.17774267736771412 lmdb= 3.6294202989022173\n",
            "cov= [[0.0025  0.0018  0.00255 0.00375]\n",
            " [0.0018  0.0144  0.01224 0.018  ]\n",
            " [0.00255 0.01224 0.0289  0.0255 ]\n",
            " [0.00375 0.018   0.0255  0.0625 ]]\n",
            "w= [[0.78511066]\n",
            " [0.05386419]\n",
            " [0.13355472]\n",
            " [0.02747042]]\n",
            "sd= 0.0584009067411041\n"
          ],
          "name": "stdout"
        },
        {
          "output_type": "display_data",
          "data": {
            "image/png": "[encoded data removed]",
            "text/plain": [
              "<Figure size 432x288 with 1 Axes>"
            ]
          },
          "metadata": {
            "tags": []
          }
        }
      ]
    }
  ]
}
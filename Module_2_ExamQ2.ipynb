{
  "nbformat": 4,
  "nbformat_minor": 0,
  "metadata": {
    "colab": {
      "name": "Module 2 ExamQ2.ipynb",
      "provenance": [],
      "collapsed_sections": [],
      "include_colab_link": true
    },
    "kernelspec": {
      "name": "python3",
      "display_name": "Python 3"
    }
  },
  "cells": [
    {
      "cell_type": "markdown",
      "metadata": {
        "id": "view-in-github",
        "colab_type": "text"
      },
      "source": [
        "<a href=\"https://colab.research.google.com/github/y31106891/CQF/blob/master/Module_2_ExamQ2.ipynb\" target=\"_parent\"><img src=\"https://colab.research.google.com/assets/colab-badge.svg\" alt=\"Open In Colab\"/></a>"
      ]
    },
    {
      "cell_type": "code",
      "metadata": {
        "id": "1QkJAwGnhxYY",
        "colab_type": "code",
        "outputId": "6ea06344-c614-450d-9bbf-ffce14141714",
        "colab": {
          "base_uri": "https://localhost:8080/",
          "height": 272
        }
      },
      "source": [
        "import numpy as np\n",
        "import random as rd\n",
        "import matplotlib.pyplot as plt\n",
        "\n",
        "u = np.matrix([[0.02],[0.07], [0.15],[0.2]])\n",
        "vol = np.matrix([[0.05], [0.12], [0.17],[0.25]])\n",
        "One = np.matrix([[1],[1],[1],[1]])\n",
        "rho = np.matrix([[1, 0.3,0.3,0.3],\n",
        "[0.3, 1, 0.6,0.6],\n",
        "[0.3, 0.6, 1,0.6],\n",
        "[0.3,0.6,0.6,1]])\n",
        "\n",
        "cov= np.diag(vol.A1).dot(rho).dot(np.diag(vol.A1))\n",
        "\n",
        "A= One.T.dot(cov.I).dot(One).item()\n",
        "B=One.T.dot(cov.I).dot(u).item()\n",
        "C=u.T.dot(cov.I).dot(u).item()\n",
        "\n",
        "rfl=[50/10000,75/10000,100/10000,150/10000,175/10000]\n",
        "\n",
        "lst=[]\n",
        "for i in range(len(rfl)):\n",
        "  rf=rfl[i]\n",
        "  w=(cov.I.dot(u-rf*(One)))/((One.T.dot(cov.I).dot((u-rf*One))))\n",
        "  m=w.T.dot(u)\n",
        "  sd=np.sqrt(w.T.dot(cov).dot(w)).item()\n",
        "  w=np.asarray(w.T).tolist()\n",
        "  lst.append([rfl[i],sd,w])\n",
        "\n",
        "lst=np.asarray(lst)\n",
        "print(cov)\n",
        "print(\"A=\",A,\n",
        "      \"B=\",B,\n",
        "      \"C=\",C)\n",
        "print(lst)"
      ],
      "execution_count": 0,
      "outputs": [
        {
          "output_type": "stream",
          "text": [
            "[[0.0025  0.0018  0.00255 0.00375]\n",
            " [0.0018  0.0144  0.01224 0.018  ]\n",
            " [0.00255 0.01224 0.0289  0.0255 ]\n",
            " [0.00375 0.018   0.0255  0.0625 ]]\n",
            "A= 423.61498068698154 B= 6.807020715428302 C= 0.906508930403412\n",
            "[[0.005 0.1965106415308288\n",
            "  list([[0.016835201541019886, -0.22936698195619826, 0.8143402635031705, 0.3981915169120078]])]\n",
            " [0.0075 0.25071500808364117\n",
            "  list([[-0.25328031531203893, -0.3289473255467858, 1.0536954781580745, 0.52853216270075]])]\n",
            " [0.01 0.35066537014279425\n",
            "  list([[-0.7459371100527579, -0.5105693717886013, 1.4902493430754662, 0.7662571387658932]])]\n",
            " [0.015 1.9723916979145129\n",
            "  list([[-8.644854051636708, -3.4225711412550077, 8.489650866248914, 4.577774326642805]])]\n",
            " [0.0175 1.473514930236409\n",
            "  list([[8.103502472263056, 2.751850516034934, -6.35143089609817, -3.5039220921998204]])]]\n"
          ],
          "name": "stdout"
        }
      ]
    }
  ]
}